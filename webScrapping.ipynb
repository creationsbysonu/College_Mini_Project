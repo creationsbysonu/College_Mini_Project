{
 "cells": [
  {
   "cell_type": "code",
   "execution_count": 2,
   "metadata": {},
   "outputs": [],
   "source": [
    "import requests\n",
    "from bs4 import BeautifulSoup\n",
    "import json\n"
   ]
  },
  {
   "cell_type": "code",
   "execution_count": 3,
   "metadata": {},
   "outputs": [],
   "source": [
    "# Step 1: Define the target URL\n",
    "url = \"https://www.daraz.com.np/products/ar-jordan-1-dark-mocha-sneaker-for-men-i129562539-s1037486955.html?scm=1007.51610.379274.0&pvid=2b088754-f346-4516-8f1f-7379bde46d49&search=flashsale&spm=a2a0e.tm80335409.FlashSale.d_129562539\"  # Replace with the product page URL\n",
    "headers = {\n",
    "    \"User-Agent\": \"Mozilla/5.0 (Windows NT 10.0; Win64; x64) AppleWebKit/537.36 (KHTML, like Gecko) Chrome/88.0.4324.150 Safari/537.36\"\n",
    "}"
   ]
  },
  {
   "cell_type": "code",
   "execution_count": 4,
   "metadata": {},
   "outputs": [],
   "source": [
    "# Step 2: Send an HTTP GET request\n",
    "response = requests.get(url, headers=headers)\n",
    "if response.status_code != 200:\n",
    "    print(\"Failed to fetch the webpage. Status Code:\", response.status_code)\n",
    "    exit()"
   ]
  },
  {
   "cell_type": "code",
   "execution_count": 5,
   "metadata": {},
   "outputs": [],
   "source": [
    "# Step 3: Parse the HTML content\n",
    "soup = BeautifulSoup(response.content, \"html.parser\")"
   ]
  },
  {
   "cell_type": "code",
   "execution_count": 8,
   "metadata": {},
   "outputs": [],
   "source": [
    "# Step 4: Extract reviews\n",
    "reviews = []\n",
    "review_elements = soup.find_all(\"div\", class_=\"mod-reviews\")  # Update with the actual class for reviews\n",
    "\n",
    "for review in review_elements:\n",
    "    try:\n",
    "        review_text = review.find(\"p\", class_=\"content\").get_text(strip=True)\n",
    "        review_rating = review.find(\"span\", class_=\"top\").get_text(strip=True)  # Optional\n",
    "        review_author = review.find(\"span\", class_=\"middle\").get_text(strip=True)  # Optional\n",
    "\n",
    "        # Append review details\n",
    "        reviews.append({\n",
    "            \"text\": review_text,\n",
    "            \"rating\": review_rating,\n",
    "            \"author\": review_author\n",
    "        })\n",
    "    except AttributeError:\n",
    "        continue"
   ]
  },
  {
   "cell_type": "code",
   "execution_count": 9,
   "metadata": {},
   "outputs": [
    {
     "name": "stdout",
     "output_type": "stream",
     "text": [
      "Reviews saved to reviews.json\n"
     ]
    }
   ],
   "source": [
    "# Step 5: Save reviews to a file\n",
    "with open(\"reviews.json\", \"w\") as file:\n",
    "    json.dump(reviews, file, indent=4)\n",
    "\n",
    "print(\"Reviews saved to reviews.json\")"
   ]
  },
  {
   "cell_type": "code",
   "execution_count": null,
   "metadata": {},
   "outputs": [],
   "source": []
  }
 ],
 "metadata": {
  "kernelspec": {
   "display_name": "Python 3",
   "language": "python",
   "name": "python3"
  },
  "language_info": {
   "codemirror_mode": {
    "name": "ipython",
    "version": 3
   },
   "file_extension": ".py",
   "mimetype": "text/x-python",
   "name": "python",
   "nbconvert_exporter": "python",
   "pygments_lexer": "ipython3",
   "version": "3.13.1"
  }
 },
 "nbformat": 4,
 "nbformat_minor": 2
}
